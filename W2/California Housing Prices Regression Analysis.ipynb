{
 "cells": [
  {
   "cell_type": "markdown",
   "id": "47651408",
   "metadata": {},
   "source": [
    "## California Housing Prices Regression Analysis"
   ]
  },
  {
   "cell_type": "markdown",
   "id": "c7fa4dc1",
   "metadata": {},
   "source": [
    "### Load the dataset"
   ]
  },
  {
   "cell_type": "code",
   "execution_count": 1,
   "id": "a3dd8854",
   "metadata": {},
   "outputs": [
    {
     "data": {
      "text/html": [
       "<div>\n",
       "<style scoped>\n",
       "    .dataframe tbody tr th:only-of-type {\n",
       "        vertical-align: middle;\n",
       "    }\n",
       "\n",
       "    .dataframe tbody tr th {\n",
       "        vertical-align: top;\n",
       "    }\n",
       "\n",
       "    .dataframe thead th {\n",
       "        text-align: right;\n",
       "    }\n",
       "</style>\n",
       "<table border=\"1\" class=\"dataframe\">\n",
       "  <thead>\n",
       "    <tr style=\"text-align: right;\">\n",
       "      <th></th>\n",
       "      <th>longitude</th>\n",
       "      <th>latitude</th>\n",
       "      <th>housing_median_age</th>\n",
       "      <th>total_rooms</th>\n",
       "      <th>total_bedrooms</th>\n",
       "      <th>population</th>\n",
       "      <th>households</th>\n",
       "      <th>median_income</th>\n",
       "      <th>median_house_value</th>\n",
       "      <th>ocean_proximity</th>\n",
       "    </tr>\n",
       "  </thead>\n",
       "  <tbody>\n",
       "    <tr>\n",
       "      <th>0</th>\n",
       "      <td>-122.23</td>\n",
       "      <td>37.88</td>\n",
       "      <td>41.0</td>\n",
       "      <td>880.0</td>\n",
       "      <td>129.0</td>\n",
       "      <td>322.0</td>\n",
       "      <td>126.0</td>\n",
       "      <td>8.3252</td>\n",
       "      <td>452600.0</td>\n",
       "      <td>NEAR BAY</td>\n",
       "    </tr>\n",
       "    <tr>\n",
       "      <th>1</th>\n",
       "      <td>-122.22</td>\n",
       "      <td>37.86</td>\n",
       "      <td>21.0</td>\n",
       "      <td>7099.0</td>\n",
       "      <td>1106.0</td>\n",
       "      <td>2401.0</td>\n",
       "      <td>1138.0</td>\n",
       "      <td>8.3014</td>\n",
       "      <td>358500.0</td>\n",
       "      <td>NEAR BAY</td>\n",
       "    </tr>\n",
       "    <tr>\n",
       "      <th>2</th>\n",
       "      <td>-122.24</td>\n",
       "      <td>37.85</td>\n",
       "      <td>52.0</td>\n",
       "      <td>1467.0</td>\n",
       "      <td>190.0</td>\n",
       "      <td>496.0</td>\n",
       "      <td>177.0</td>\n",
       "      <td>7.2574</td>\n",
       "      <td>352100.0</td>\n",
       "      <td>NEAR BAY</td>\n",
       "    </tr>\n",
       "    <tr>\n",
       "      <th>3</th>\n",
       "      <td>-122.25</td>\n",
       "      <td>37.85</td>\n",
       "      <td>52.0</td>\n",
       "      <td>1274.0</td>\n",
       "      <td>235.0</td>\n",
       "      <td>558.0</td>\n",
       "      <td>219.0</td>\n",
       "      <td>5.6431</td>\n",
       "      <td>341300.0</td>\n",
       "      <td>NEAR BAY</td>\n",
       "    </tr>\n",
       "    <tr>\n",
       "      <th>4</th>\n",
       "      <td>-122.25</td>\n",
       "      <td>37.85</td>\n",
       "      <td>52.0</td>\n",
       "      <td>1627.0</td>\n",
       "      <td>280.0</td>\n",
       "      <td>565.0</td>\n",
       "      <td>259.0</td>\n",
       "      <td>3.8462</td>\n",
       "      <td>342200.0</td>\n",
       "      <td>NEAR BAY</td>\n",
       "    </tr>\n",
       "  </tbody>\n",
       "</table>\n",
       "</div>"
      ],
      "text/plain": [
       "   longitude  latitude  housing_median_age  total_rooms  total_bedrooms  \\\n",
       "0    -122.23     37.88                41.0        880.0           129.0   \n",
       "1    -122.22     37.86                21.0       7099.0          1106.0   \n",
       "2    -122.24     37.85                52.0       1467.0           190.0   \n",
       "3    -122.25     37.85                52.0       1274.0           235.0   \n",
       "4    -122.25     37.85                52.0       1627.0           280.0   \n",
       "\n",
       "   population  households  median_income  median_house_value ocean_proximity  \n",
       "0       322.0       126.0         8.3252            452600.0        NEAR BAY  \n",
       "1      2401.0      1138.0         8.3014            358500.0        NEAR BAY  \n",
       "2       496.0       177.0         7.2574            352100.0        NEAR BAY  \n",
       "3       558.0       219.0         5.6431            341300.0        NEAR BAY  \n",
       "4       565.0       259.0         3.8462            342200.0        NEAR BAY  "
      ]
     },
     "execution_count": 1,
     "metadata": {},
     "output_type": "execute_result"
    }
   ],
   "source": [
    "import pandas as pd\n",
    "\n",
    "# Load the dataset\n",
    "housing_data = pd.read_csv('housing.csv')\n",
    "\n",
    "# Display the first few rows of the dataset\n",
    "housing_data.head()"
   ]
  },
  {
   "cell_type": "markdown",
   "id": "e37ce4d0",
   "metadata": {},
   "source": [
    "### Exploratory Data Anlaysis"
   ]
  },
  {
   "cell_type": "code",
   "execution_count": 2,
   "id": "917afb1d",
   "metadata": {},
   "outputs": [
    {
     "data": {
      "image/png": "[encoded data removed]",
      "text/plain": [
       "<Figure size 1000x600 with 1 Axes>"
      ]
     },
     "metadata": {},
     "output_type": "display_data"
    }
   ],
   "source": [
    "import matplotlib.pyplot as plt\n",
    "\n",
    "#Plot the distribution of the 'median_house_value' column\n",
    "plt.figure(figsize=(10,6))\n",
    "plt.hist(housing_data['median_house_value'],bins=50, edgecolor='k', alpha=0.7)\n",
    "plt.title('Distribution of Median House Value')\n",
    "plt.xlabel('Median House Value')\n",
    "plt.ylabel('Frequency')\n",
    "plt.show()"
   ]
  },
  {
   "cell_type": "markdown",
   "id": "d215022d",
   "metadata": {},
   "source": [
    "### Preparing the Dataset"
   ]
  },
  {
   "cell_type": "code",
   "execution_count": 3,
   "id": "62a2b7fc",
   "metadata": {},
   "outputs": [
    {
     "data": {
      "text/html": [
       "<div>\n",
       "<style scoped>\n",
       "    .dataframe tbody tr th:only-of-type {\n",
       "        vertical-align: middle;\n",
       "    }\n",
       "\n",
       "    .dataframe tbody tr th {\n",
       "        vertical-align: top;\n",
       "    }\n",
       "\n",
       "    .dataframe thead th {\n",
       "        text-align: right;\n",
       "    }\n",
       "</style>\n",
       "<table border=\"1\" class=\"dataframe\">\n",
       "  <thead>\n",
       "    <tr style=\"text-align: right;\">\n",
       "      <th></th>\n",
       "      <th>latitude</th>\n",
       "      <th>longitude</th>\n",
       "      <th>housing_median_age</th>\n",
       "      <th>total_rooms</th>\n",
       "      <th>total_bedrooms</th>\n",
       "      <th>population</th>\n",
       "      <th>households</th>\n",
       "      <th>median_income</th>\n",
       "      <th>median_house_value</th>\n",
       "    </tr>\n",
       "  </thead>\n",
       "  <tbody>\n",
       "    <tr>\n",
       "      <th>701</th>\n",
       "      <td>37.64</td>\n",
       "      <td>-121.97</td>\n",
       "      <td>32.0</td>\n",
       "      <td>1283.0</td>\n",
       "      <td>194.0</td>\n",
       "      <td>485.0</td>\n",
       "      <td>171.0</td>\n",
       "      <td>6.0574</td>\n",
       "      <td>431000.0</td>\n",
       "    </tr>\n",
       "    <tr>\n",
       "      <th>830</th>\n",
       "      <td>37.61</td>\n",
       "      <td>-121.99</td>\n",
       "      <td>9.0</td>\n",
       "      <td>3666.0</td>\n",
       "      <td>711.0</td>\n",
       "      <td>2341.0</td>\n",
       "      <td>703.0</td>\n",
       "      <td>4.6458</td>\n",
       "      <td>217000.0</td>\n",
       "    </tr>\n",
       "    <tr>\n",
       "      <th>859</th>\n",
       "      <td>37.57</td>\n",
       "      <td>-121.97</td>\n",
       "      <td>21.0</td>\n",
       "      <td>4342.0</td>\n",
       "      <td>783.0</td>\n",
       "      <td>2172.0</td>\n",
       "      <td>789.0</td>\n",
       "      <td>4.6146</td>\n",
       "      <td>247600.0</td>\n",
       "    </tr>\n",
       "    <tr>\n",
       "      <th>860</th>\n",
       "      <td>37.58</td>\n",
       "      <td>-121.96</td>\n",
       "      <td>15.0</td>\n",
       "      <td>3575.0</td>\n",
       "      <td>597.0</td>\n",
       "      <td>1777.0</td>\n",
       "      <td>559.0</td>\n",
       "      <td>5.7192</td>\n",
       "      <td>283500.0</td>\n",
       "    </tr>\n",
       "    <tr>\n",
       "      <th>861</th>\n",
       "      <td>37.58</td>\n",
       "      <td>-121.98</td>\n",
       "      <td>20.0</td>\n",
       "      <td>4126.0</td>\n",
       "      <td>1031.0</td>\n",
       "      <td>2079.0</td>\n",
       "      <td>975.0</td>\n",
       "      <td>3.6832</td>\n",
       "      <td>216900.0</td>\n",
       "    </tr>\n",
       "  </tbody>\n",
       "</table>\n",
       "</div>"
      ],
      "text/plain": [
       "     latitude  longitude  housing_median_age  total_rooms  total_bedrooms  \\\n",
       "701     37.64    -121.97                32.0       1283.0           194.0   \n",
       "830     37.61    -121.99                 9.0       3666.0           711.0   \n",
       "859     37.57    -121.97                21.0       4342.0           783.0   \n",
       "860     37.58    -121.96                15.0       3575.0           597.0   \n",
       "861     37.58    -121.98                20.0       4126.0          1031.0   \n",
       "\n",
       "     population  households  median_income  median_house_value  \n",
       "701       485.0       171.0         6.0574            431000.0  \n",
       "830      2341.0       703.0         4.6458            217000.0  \n",
       "859      2172.0       789.0         4.6146            247600.0  \n",
       "860      1777.0       559.0         5.7192            283500.0  \n",
       "861      2079.0       975.0         3.6832            216900.0  "
      ]
     },
     "execution_count": 3,
     "metadata": {},
     "output_type": "execute_result"
    }
   ],
   "source": [
    "filtered_data = housing_data[housing_data['ocean_proximity'].isin(['<1H OCEAN', 'INLAND'])]\n",
    "columns_to_keep = [\n",
    "    'latitude',\n",
    "    'longitude',\n",
    "    'housing_median_age',\n",
    "    'total_rooms',\n",
    "    'total_bedrooms',\n",
    "    'population',\n",
    "    'households',\n",
    "    'median_income',\n",
    "    'median_house_value'\n",
    "]\n",
    "filtered_data = filtered_data[columns_to_keep]\n",
    "filtered_data.head()"
   ]
  },
  {
   "cell_type": "markdown",
   "id": "0dd1ea2b",
   "metadata": {},
   "source": [
    "### Question1: One feature with missing values"
   ]
  },
  {
   "cell_type": "code",
   "execution_count": 4,
   "id": "b0af686b",
   "metadata": {},
   "outputs": [
    {
     "data": {
      "text/plain": [
       "'total_bedrooms'"
      ]
     },
     "execution_count": 4,
     "metadata": {},
     "output_type": "execute_result"
    }
   ],
   "source": [
    "# Identify columns with missing values\n",
    "missing_values = filtered_data.isnull().sum()\n",
    "missing_column = missing_values[missing_values > 0].index[0]\n",
    "missing_column"
   ]
  },
  {
   "cell_type": "markdown",
   "id": "83b81be3",
   "metadata": {},
   "source": [
    "The feature with missing values is <strong>total_bedrooms</strong>"
   ]
  },
  {
   "cell_type": "markdown",
   "id": "fd151394",
   "metadata": {},
   "source": [
    "### Question2: The median (50% percentile) for variable 'population'"
   ]
  },
  {
   "cell_type": "code",
   "execution_count": 7,
   "id": "112da76d",
   "metadata": {},
   "outputs": [
    {
     "data": {
      "text/plain": [
       "1195.0"
      ]
     },
     "execution_count": 7,
     "metadata": {},
     "output_type": "execute_result"
    }
   ],
   "source": [
    "# Calculate the median for the 'population' column\n",
    "population_median = filtered_data['population'].median()\n",
    "population_median"
   ]
  },
  {
   "cell_type": "markdown",
   "id": "17d8d2da",
   "metadata": {},
   "source": [
    "The median 50th percentile for the variable 'population' is **1195**"
   ]
  },
  {
   "cell_type": "markdown",
   "id": "41101bd7",
   "metadata": {},
   "source": [
    "### Prepare and Split the Dataset"
   ]
  },
  {
   "cell_type": "code",
   "execution_count": 17,
   "id": "735fa7ec",
   "metadata": {},
   "outputs": [
    {
     "data": {
      "text/plain": [
       "((9412, 9), (3137, 9), (3138, 9))"
      ]
     },
     "execution_count": 17,
     "metadata": {},
     "output_type": "execute_result"
    }
   ],
   "source": [
    "from sklearn.model_selection import train_test_split\n",
    "import numpy as np\n",
    "\n",
    "# Shuffle and split the dataset\n",
    "np.random.seed(42)\n",
    "shuffled_data = filtered_data.sample(frac=1, random_state=42)\n",
    "\n",
    "# Splitting into train/val/test sets\n",
    "train, temp = train_test_split(shuffled_data, test_size=0.4, random_state=42)\n",
    "val, test = train_test_split(temp, test_size=0.5, random_state=42)\n",
    "\n",
    "# Apply log transformation to 'median_house_value'\n",
    "train['median_house_value'] = np.log1p(train['median_house_value'])\n",
    "val['median_house_value'] = np.log1p(val['median_house_value'])\n",
    "test['median_house_value'] = np.log1p(test['median_house_value'])\n",
    "\n",
    "train.shape, val.shape, test.shape\n"
   ]
  },
  {
   "cell_type": "markdown",
   "id": "681c28a7",
   "metadata": {},
   "source": [
    "### Question 3:LinearRegression"
   ]
  },
  {
   "cell_type": "code",
   "execution_count": 20,
   "id": "c49ff1fb",
   "metadata": {},
   "outputs": [
    {
     "data": {
      "text/plain": [
       "(0.3464608098444538, 0.3462097108527321)"
      ]
     },
     "execution_count": 20,
     "metadata": {},
     "output_type": "execute_result"
    }
   ],
   "source": [
    "from sklearn.linear_model import LinearRegression\n",
    "from sklearn.metrics import mean_squared_error\n",
    "\n",
    "# Define a function to train and evaluate a linear regression model\n",
    "def train_and_evaluate(X_train, y_train, X_val, y_val):\n",
    "    model = LinearRegression()\n",
    "    model.fit(X_train, y_train)\n",
    "    predictions = model.predict(X_val)\n",
    "    rmse = np.sqrt(mean_squared_error(y_val, predictions))\n",
    "    return rmse\n",
    "\n",
    "# Prepare features and target for train and val sets\n",
    "X_train = train.drop(columns=['median_house_value'])\n",
    "y_train = train['median_house_value']\n",
    "X_val = val.drop(columns=['median_house_value'])\n",
    "y_val = val['median_house_value']\n",
    "\n",
    "# Fill missing values with 0\n",
    "X_train_zero = X_train.fillna(0)\n",
    "X_val_zero = X_val.fillna(0)\n",
    "rmse_zero = train_and_evaluate(X_train_zero, y_train, X_val_zero, y_val)\n",
    "\n",
    "# Fill missing values with mean\n",
    "mean_value = X_train['total_bedrooms'].mean()\n",
    "X_train_mean = X_train.fillna(mean_value)\n",
    "X_val_mean = X_val.fillna(mean_value)\n",
    "rmse_mean = train_and_evaluate(X_train_mean, y_train, X_val_mean, y_val)\n",
    "\n",
    "rmse_zero, rmse_mean\n"
   ]
  },
  {
   "cell_type": "markdown",
   "id": "c84b57e8",
   "metadata": {},
   "source": [
    "Filling with the **mean** provides a better RMSE"
   ]
  },
  {
   "cell_type": "markdown",
   "id": "e102ac0c",
   "metadata": {},
   "source": [
    "### Question4: Regularized linear regression"
   ]
  },
  {
   "cell_type": "code",
   "execution_count": 21,
   "id": "0daa45c5",
   "metadata": {},
   "outputs": [
    {
     "data": {
      "text/plain": [
       "(0,\n",
       " {0: 0.35,\n",
       "  1e-06: 0.35,\n",
       "  0.0001: 0.35,\n",
       "  0.001: 0.35,\n",
       "  0.01: 0.35,\n",
       "  0.1: 0.35,\n",
       "  1: 0.35,\n",
       "  5: 0.35,\n",
       "  10: 0.35})"
      ]
     },
     "execution_count": 21,
     "metadata": {},
     "output_type": "execute_result"
    }
   ],
   "source": [
    "from sklearn.linear_model import Ridge\n",
    "\n",
    "# Define a function to train and evaluate a Ridge regression model\n",
    "def train_and_evaluate_ridge(X_train, y_train, X_val, y_val, alpha):\n",
    "    model = Ridge(alpha=alpha)\n",
    "    model.fit(X_train, y_train)\n",
    "    predictions = model.predict(X_val)\n",
    "    rmse = np.sqrt(mean_squared_error(y_val, predictions))\n",
    "    return rmse\n",
    "\n",
    "# List of r values to test\n",
    "r_values = [0, 0.000001, 0.0001, 0.001, 0.01, 0.1, 1, 5, 10]\n",
    "\n",
    "# Evaluate Ridge regression for different r values\n",
    "rmse_scores = {}\n",
    "for r in r_values:\n",
    "    rmse = train_and_evaluate_ridge(X_train_zero, y_train, X_val_zero, y_val, r)\n",
    "    rmse_scores[r] = round(rmse, 2)\n",
    "\n",
    "# Determine the r value with the smallest RMSE\n",
    "best_r = min(rmse_scores, key=rmse_scores.get)\n",
    "best_r, rmse_scores\n"
   ]
  },
  {
   "cell_type": "markdown",
   "id": "e0be1568",
   "metadata": {},
   "source": [
    "The smallest **RMS** value that achieves the best RMSE is r=0."
   ]
  },
  {
   "cell_type": "markdown",
   "id": "ef1853fb",
   "metadata": {},
   "source": [
    "### Question 5:Testing with different splits"
   ]
  },
  {
   "cell_type": "code",
   "execution_count": 25,
   "id": "330838c0",
   "metadata": {},
   "outputs": [
    {
     "data": {
      "text/plain": [
       "0.006"
      ]
     },
     "execution_count": 25,
     "metadata": {},
     "output_type": "execute_result"
    }
   ],
   "source": [
    "\n",
    "seed_values = [0, 1, 2, 3, 4, 5, 6, 7, 8, 9]\n",
    "rmse_scores_seeds_corrected = []\n",
    "\n",
    "def split_data_seed(seed, data):\n",
    "    train, temp = train_test_split(data, test_size=0.4, random_state=seed)\n",
    "    val, test = train_test_split(temp, test_size=0.5, random_state=seed)\n",
    "    return train, val, test\n",
    "\n",
    "for seed in seed_values:\n",
    "    train_seed, val_seed, test_seed = split_data_seed(seed, shuffled_data)\n",
    "    train_seed['median_house_value'] = np.log1p(train_seed['median_house_value'])\n",
    "    val_seed['median_house_value'] = np.log1p(val_seed['median_house_value'])\n",
    "    \n",
    "    X_train_seed = train_seed.drop(columns=['median_house_value']).fillna(0)\n",
    "    y_train_seed = train_seed['median_house_value']\n",
    "    X_val_seed = val_seed.drop(columns=['median_house_value']).fillna(0)\n",
    "    y_val_seed = val_seed['median_house_value']\n",
    "    \n",
    "    rmse = train_and_evaluate(X_train_seed, y_train_seed, X_val_seed, y_val_seed)\n",
    "    rmse_scores_seeds_corrected.append(rmse)\n",
    "\n",
    "std_rmse_corrected = round(np.std(rmse_scores_seeds_corrected), 3)\n",
    "std_rmse_corrected\n",
    "    "
   ]
  },
  {
   "cell_type": "markdown",
   "id": "930d0c5a",
   "metadata": {},
   "source": [
    "The standard deviation of the RMSE scores across different seeds is \n",
    "**0.006**."
   ]
  },
  {
   "cell_type": "markdown",
   "id": "09b33491",
   "metadata": {},
   "source": [
    "### Question6: With seed=9"
   ]
  },
  {
   "cell_type": "code",
   "execution_count": 26,
   "id": "8034a71a",
   "metadata": {},
   "outputs": [
    {
     "data": {
      "text/plain": [
       "0.34"
      ]
     },
     "execution_count": 26,
     "metadata": {},
     "output_type": "execute_result"
    }
   ],
   "source": [
    "# Split data using seed 9\n",
    "train_seed_9, val_seed_9, test_seed_9 = split_data_seed(9, shuffled_data)\n",
    "\n",
    "# Combine train and validation datasets\n",
    "combined_train = pd.concat([train_seed_9, val_seed_9])\n",
    "\n",
    "# Prepare features and target for combined_train and test\n",
    "X_train_combined = combined_train.drop(columns=['median_house_value']).fillna(0)\n",
    "y_train_combined = np.log1p(combined_train['median_house_value'])\n",
    "X_test_seed_9 = test_seed_9.drop(columns=['median_house_value']).fillna(0)\n",
    "y_test_seed_9 = np.log1p(test_seed_9['median_house_value'])\n",
    "\n",
    "# Train Ridge regression model with r=0.001 and evaluate on test set\n",
    "rmse_test = train_and_evaluate_ridge(X_train_combined, y_train_combined, X_test_seed_9, y_test_seed_9, 0.001)\n",
    "round(rmse_test, 2)\n"
   ]
  },
  {
   "cell_type": "markdown",
   "id": "d1413e49",
   "metadata": {},
   "source": [
    "The RMSE on the test dataset is **0.34**"
   ]
  }
 ],
 "metadata": {
  "kernelspec": {
   "display_name": "Python 3 (ipykernel)",
   "language": "python",
   "name": "python3"
  },
  "language_info": {
   "codemirror_mode": {
    "name": "ipython",
    "version": 3
   },
   "file_extension": ".py",
   "mimetype": "text/x-python",
   "name": "python",
   "nbconvert_exporter": "python",
   "pygments_lexer": "ipython3",
   "version": "3.9.18"
  }
 },
 "nbformat": 4,
 "nbformat_minor": 5
}
